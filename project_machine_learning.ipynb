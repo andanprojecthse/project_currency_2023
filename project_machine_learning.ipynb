{
 "cells": [
  {
   "cell_type": "markdown",
   "id": "a4e54fa8",
   "metadata": {},
   "source": [
    "### Машинное обучение"
   ]
  },
  {
   "cell_type": "code",
   "execution_count": 1,
   "id": "f1331acc",
   "metadata": {},
   "outputs": [],
   "source": [
    "import pandas as pd\n",
    "import numpy as np\n",
    "from sklearn.model_selection import train_test_split\n",
    "from sklearn.linear_model import LinearRegression\n",
    "from sklearn.neighbors import KNeighborsRegressor\n",
    "from sklearn.linear_model import Lasso\n",
    "from sklearn.linear_model import Ridge\n",
    "from sklearn.linear_model import ElasticNet\n",
    "from sklearn.tree import DecisionTreeRegressor\n",
    "from catboost import CatBoostRegressor\n",
    "from sklearn.ensemble import RandomForestRegressor\n",
    "from sklearn.metrics import mean_squared_error, mean_absolute_error, r2_score\n",
    "from sklearn.metrics import mean_absolute_percentage_error\n",
    "from sklearn.preprocessing import StandardScaler\n",
    "from sklearn.model_selection import GridSearchCV\n",
    "from sklearn.preprocessing import RobustScaler\n",
    "\n",
    "import matplotlib.pyplot as plt"
   ]
  },
  {
   "cell_type": "code",
   "execution_count": 2,
   "id": "2b3b39d9",
   "metadata": {},
   "outputs": [],
   "source": [
    "import warnings\n",
    "warnings.filterwarnings('ignore')\n",
    "warnings.filterwarnings('default')"
   ]
  },
  {
   "cell_type": "code",
   "execution_count": 3,
   "id": "6d965588",
   "metadata": {},
   "outputs": [
    {
     "name": "stdout",
     "output_type": "stream",
     "text": [
      "   Unnamed: 0        Дата  ФУНТ СТЕРЛИНГОВ  ДИРХАМ ОАЭ  ДОЛЛАР США    ЕВРО  \\\n",
      "0           0  2015-09-02           359.98       63.97      234.94  264.85   \n",
      "1           1  2015-09-03           368.86       65.66      241.15  272.07   \n",
      "2           2  2015-09-04           365.68       65.28      239.76  269.37   \n",
      "3           3  2015-09-05           365.08       65.24      239.60  266.91   \n",
      "4           4  2015-09-06           365.08       65.24      239.60  266.91   \n",
      "\n",
      "   РОССИЙСКИЙ РУБЛЬ  ТУРЕЦКАЯ ЛИРА  Размер ставки, % Коридор базовой ставки, %  \n",
      "0              3.60          80.40              12.0                7,0 - 17,0  \n",
      "1              3.61          81.85              12.0                7,0 - 17,0  \n",
      "2              3.58          81.07              12.0                7,0 - 17,0  \n",
      "3              3.54          80.44              12.0                7,0 - 17,0  \n",
      "4              3.54          80.44              12.0                7,0 - 17,0  \n"
     ]
    }
   ],
   "source": [
    "df = pd.read_csv('table_res.csv')\n",
    "\n",
    "print(df.head())"
   ]
  },
  {
   "cell_type": "code",
   "execution_count": 4,
   "id": "708dff1d",
   "metadata": {},
   "outputs": [],
   "source": [
    "X = df[['ДОЛЛАР США', 'Размер ставки, %']] \n",
    "y = df['РОССИЙСКИЙ РУБЛЬ']\n",
    "\n",
    "# Разделение данных на обучающую и тестовую выборку (80%/20%)\n",
    "X_train, X_test, y_train, y_test = train_test_split(X, y, test_size=0.2, random_state=42)"
   ]
  },
  {
   "cell_type": "code",
   "execution_count": 5,
   "id": "2c7291c9",
   "metadata": {},
   "outputs": [],
   "source": [
    "scaler = RobustScaler()\n",
    "\n",
    "X_train_norm = scaler.fit_transform(X_train)\n",
    "X_test_norm = scaler.transform(X_test)"
   ]
  },
  {
   "cell_type": "markdown",
   "id": "0753edf6",
   "metadata": {},
   "source": [
    "### Модель линейной регрессии"
   ]
  },
  {
   "cell_type": "code",
   "execution_count": 6,
   "id": "002d13b8",
   "metadata": {},
   "outputs": [
    {
     "name": "stdout",
     "output_type": "stream",
     "text": [
      "True\n",
      "True\n"
     ]
    }
   ],
   "source": [
    "model = LinearRegression()\n",
    "\n",
    "gs = GridSearchCV(model, param_grid={'fit_intercept': [True, False], 'positive': [True, False],},\n",
    "                  refit='MAE', cv=5, n_jobs=-1)\n",
    "\n",
    "gs.fit(X_train_norm, y_train)\n",
    "\n",
    "best_fit_intercept = gs.best_params_['fit_intercept']\n",
    "best_positive = gs.best_params_['positive']\n",
    "\n",
    "print(best_fit_intercept)\n",
    "print(best_positive)"
   ]
  },
  {
   "cell_type": "code",
   "execution_count": 7,
   "id": "d5a103b4",
   "metadata": {},
   "outputs": [
    {
     "name": "stdout",
     "output_type": "stream",
     "text": [
      "Train MSE: 0.3251043838408847\n",
      "Train MAE: 0.41414895584015027\n",
      "Train R^2: 0.4027117406750991\n",
      "Test MSE: 0.30767088947732907\n",
      "Test MAE: 0.39955126962581494\n",
      "Test R^2: 0.42019837682236594\n"
     ]
    }
   ],
   "source": [
    "model = LinearRegression(fit_intercept=best_fit_intercept,\n",
    "                               positive=best_positive)\n",
    "\n",
    "model.fit(X_train_norm, y_train)\n",
    "\n",
    "# Прогнозирование на обучающей выборке\n",
    "y_train_pred = model.predict(X_train_norm)\n",
    "\n",
    "# Прогнозирование на тестовой выборке\n",
    "y_test_pred = model.predict(X_test_norm)\n",
    "\n",
    "# Вычисление метрик\n",
    "train_mse = mean_squared_error(y_train, y_train_pred)\n",
    "train_mae = mean_absolute_error(y_train, y_train_pred)\n",
    "train_r2 = r2_score(y_train, y_train_pred)\n",
    "\n",
    "# Вычисление метрик на тестовой выборке\n",
    "test_mse = mean_squared_error(y_test, y_test_pred)\n",
    "test_mae = mean_absolute_error(y_test, y_test_pred)\n",
    "test_r2 = r2_score(y_test, y_test_pred)\n",
    "\n",
    "print(\"Train MSE:\", train_mse)\n",
    "print(\"Train MAE:\", train_mae)\n",
    "print(\"Train R^2:\", train_r2)\n",
    "\n",
    "print(\"Test MSE:\", test_mse)\n",
    "print(\"Test MAE:\", test_mae)\n",
    "print(\"Test R^2:\", test_r2)"
   ]
  },
  {
   "cell_type": "markdown",
   "id": "80042d2d",
   "metadata": {},
   "source": [
    "### Модель случайного леса"
   ]
  },
  {
   "cell_type": "markdown",
   "id": "1d81ca9f",
   "metadata": {},
   "source": [
    "GridSearch не удалось подобрать параметры. Ждал 15 минут:\n",
    "ValueError: n_estimators must be greater than zero, got 0."
   ]
  },
  {
   "cell_type": "code",
   "execution_count": 33,
   "id": "bfcf0c0e",
   "metadata": {},
   "outputs": [
    {
     "name": "stdout",
     "output_type": "stream",
     "text": [
      "Train MSE: 0.0038569778580550174\n",
      "Train MAE: 0.02788775867795047\n",
      "Train R^2: 0.9929138833384054\n",
      "Test MSE: 0.017733181617827415\n",
      "Test MAE: 0.06958030320262991\n",
      "Test R^2: 0.9665820594740481\n"
     ]
    }
   ],
   "source": [
    "# Обучение модели случайного леса с дефолтными параметрами\n",
    "model = RandomForestRegressor()\n",
    "model.fit(X_train_norm, y_train)\n",
    "\n",
    "# Прогнозирование на обучающей выборке\n",
    "y_train_pred = model.predict(X_train_norm)\n",
    "\n",
    "# Прогнозирование на тестовой выборке\n",
    "y_test_pred = model.predict(X_test_norm)\n",
    "\n",
    "# Вычисление метрик\n",
    "train_mse = mean_squared_error(y_train, y_train_pred)\n",
    "train_mae = mean_absolute_error(y_train, y_train_pred)\n",
    "train_r2 = r2_score(y_train, y_train_pred)\n",
    "\n",
    "# Вычисление метрик на тестовой выборке\n",
    "test_mse = mean_squared_error(y_test, y_test_pred)\n",
    "test_mae = mean_absolute_error(y_test, y_test_pred)\n",
    "test_r2 = r2_score(y_test, y_test_pred)\n",
    "\n",
    "print(\"Train MSE:\", train_mse)\n",
    "print(\"Train MAE:\", train_mae)\n",
    "print(\"Train R^2:\", train_r2)\n",
    "\n",
    "print(\"Test MSE:\", test_mse)\n",
    "print(\"Test MAE:\", test_mae)\n",
    "print(\"Test R^2:\", test_r2)"
   ]
  },
  {
   "cell_type": "markdown",
   "id": "8c185902",
   "metadata": {},
   "source": [
    "### Модель KNN"
   ]
  },
  {
   "cell_type": "code",
   "execution_count": 8,
   "id": "d6a924dd",
   "metadata": {},
   "outputs": [
    {
     "name": "stdout",
     "output_type": "stream",
     "text": [
      "minkowski\n",
      "5\n",
      "1\n"
     ]
    }
   ],
   "source": [
    "model = KNeighborsRegressor()\n",
    "\n",
    "gs = GridSearchCV(model, param_grid={'n_neighbors': np.arange(5, 50, 5), 'p': np.arange(1, 3), 'metric': ['minkowski', 'euclidean', 'cosine', 'cityblock']},\n",
    "                  refit='MAE', cv=5)\n",
    "\n",
    "gs.fit(X_train_norm, y_train)\n",
    "\n",
    "best_metric_knn = gs.best_params_['metric']\n",
    "best_n = gs.best_params_['n_neighbors']\n",
    "best_p = gs.best_params_['p']\n",
    "\n",
    "best_knn = KNeighborsRegressor(metric=best_metric_knn, n_neighbors=best_n, p=best_p)\n",
    "\n",
    "best_knn.fit(X_train, y_train)\n",
    "\n",
    "print(best_metric_knn)\n",
    "print(best_n)\n",
    "print(best_p)"
   ]
  },
  {
   "cell_type": "code",
   "execution_count": 9,
   "id": "c6d57b4d",
   "metadata": {},
   "outputs": [
    {
     "name": "stdout",
     "output_type": "stream",
     "text": [
      "Train MSE: 0.015162888691006233\n",
      "Train MAE: 0.06488156723063224\n",
      "Train R^2: 0.9721424384205753\n",
      "Test MSE: 0.026140384341637013\n",
      "Test MAE: 0.09093238434163702\n",
      "Test R^2: 0.9507387998340833\n"
     ]
    }
   ],
   "source": [
    "# Обучение модели KNN\n",
    "model = KNeighborsRegressor(n_neighbors=best_n, p=best_p, metric = best_metric_knn)\n",
    "model.fit(X_train_norm, y_train)\n",
    "\n",
    "# Прогнозирование на обучающей выборке\n",
    "y_train_pred = model.predict(X_train_norm)\n",
    "\n",
    "# Прогнозирование на тестовой выборке\n",
    "y_test_pred = model.predict(X_test_norm)\n",
    "\n",
    "# Вычисление метрик\n",
    "train_mse = mean_squared_error(y_train, y_train_pred)\n",
    "train_mae = mean_absolute_error(y_train, y_train_pred)\n",
    "train_r2 = r2_score(y_train, y_train_pred)\n",
    "\n",
    "# Вычисление метрик на тестовой выборке\n",
    "test_mse = mean_squared_error(y_test, y_test_pred)\n",
    "test_mae = mean_absolute_error(y_test, y_test_pred)\n",
    "test_r2 = r2_score(y_test, y_test_pred)\n",
    "\n",
    "print(\"Train MSE:\", train_mse)\n",
    "print(\"Train MAE:\", train_mae)\n",
    "print(\"Train R^2:\", train_r2)\n",
    "\n",
    "print(\"Test MSE:\", test_mse)\n",
    "print(\"Test MAE:\", test_mae)\n",
    "print(\"Test R^2:\", test_r2)"
   ]
  },
  {
   "cell_type": "markdown",
   "id": "c8a54b36",
   "metadata": {},
   "source": [
    "### Модель Lasso"
   ]
  },
  {
   "cell_type": "code",
   "execution_count": 29,
   "id": "b992fd5a",
   "metadata": {},
   "outputs": [],
   "source": [
    "model = Lasso(random_state=42)\n",
    "\n",
    "gs = GridSearchCV(model,\n",
    "                  param_grid={'alpha': np.concatenate((0.1**np.arange(1, 6), 10**np.arange(6))), 'tol': 0.1**np.arange(10), 'positive': [True, False], 'fit_intercept': [True, False], 'selection': ['cyclic', 'random']},\n",
    "                  refit='MAE',\n",
    "                  cv=5)\n",
    "\n",
    "gs.fit(X_train_norm, y_train)\n",
    "\n",
    "best_alpha_lasso = gs.best_params_['alpha']\n",
    "best_fit_intercept_lasso = gs.best_params_['fit_intercept']\n",
    "best_tol_lasso = gs.best_params_['tol']\n",
    "best_positive_lasso = gs.best_params_['positive']\n",
    "best_selection_lasso = gs.best_params_['selection']"
   ]
  },
  {
   "cell_type": "code",
   "execution_count": 30,
   "id": "85e30e09",
   "metadata": {},
   "outputs": [
    {
     "name": "stdout",
     "output_type": "stream",
     "text": [
      "Train MSE: 0.3251043843373472\n",
      "Train MAE: 0.4141438157228486\n",
      "Train R^2: 0.40271173976298835\n",
      "Test MSE: 0.3076718473809393\n",
      "Test MAE: 0.39954665429466785\n",
      "Test R^2: 0.42019657166598934\n"
     ]
    }
   ],
   "source": [
    "model = Lasso(alpha=best_alpha_lasso,\n",
    "                   fit_intercept=best_fit_intercept_lasso,\n",
    "                   tol=best_tol_lasso,\n",
    "                   positive=best_positive_lasso,\n",
    "                   selection=best_selection_lasso, random_state=42)\n",
    "\n",
    "model.fit(X_train_norm, y_train)\n",
    "\n",
    "# Прогнозирование на обучающей выборке\n",
    "y_train_pred = model.predict(X_train_norm)\n",
    "\n",
    "# Прогнозирование на тестовой выборке\n",
    "y_test_pred = model.predict(X_test_norm)\n",
    "\n",
    "# Вычисление метрик\n",
    "train_mse = mean_squared_error(y_train, y_train_pred)\n",
    "train_mae = mean_absolute_error(y_train, y_train_pred)\n",
    "train_r2 = r2_score(y_train, y_train_pred)\n",
    "\n",
    "# Вычисление метрик на тестовой выборке\n",
    "test_mse = mean_squared_error(y_test, y_test_pred)\n",
    "test_mae = mean_absolute_error(y_test, y_test_pred)\n",
    "test_r2 = r2_score(y_test, y_test_pred)\n",
    "\n",
    "print(\"Train MSE:\", train_mse)\n",
    "print(\"Train MAE:\", train_mae)\n",
    "print(\"Train R^2:\", train_r2)\n",
    "\n",
    "print(\"Test MSE:\", test_mse)\n",
    "print(\"Test MAE:\", test_mae)\n",
    "print(\"Test R^2:\", test_r2)"
   ]
  },
  {
   "cell_type": "markdown",
   "id": "97b65dae",
   "metadata": {},
   "source": [
    "### Модель Ridge"
   ]
  },
  {
   "cell_type": "markdown",
   "id": "606c3365",
   "metadata": {},
   "source": [
    "GridSearch не удалось подобрать параметры"
   ]
  },
  {
   "cell_type": "code",
   "execution_count": 25,
   "id": "19c0250f",
   "metadata": {},
   "outputs": [
    {
     "name": "stdout",
     "output_type": "stream",
     "text": [
      "Train MSE: 0.32510591318655724\n",
      "Train MAE: 0.4139065595843219\n",
      "Train R^2: 0.40270893093072146\n",
      "Test MSE: 0.30773089210690685\n",
      "Test MAE: 0.3993532878598221\n",
      "Test R^2: 0.42008530267978716\n"
     ]
    },
    {
     "name": "stderr",
     "output_type": "stream",
     "text": [
      "C:\\Users\\LKU\\anaconda3\\lib\\site-packages\\sklearn\\linear_model\\_ridge.py:157: DeprecationWarning: The 'sym_pos' keyword is deprecated and should be replaced by using 'assume_a = \"pos\"'. 'sym_pos' will be removed in SciPy 1.11.0.\n",
      "  return linalg.solve(A, Xy, sym_pos=True, overwrite_a=True).T\n"
     ]
    }
   ],
   "source": [
    "# Обучение модели Ridge регрессии\n",
    "model = Ridge(alpha = 2.0)\n",
    "model.fit(X_train_norm, y_train)\n",
    "\n",
    "# Прогнозирование на обучающей выборке\n",
    "y_train_pred = model.predict(X_train_norm)\n",
    "\n",
    "# Прогнозирование на тестовой выборке\n",
    "y_test_pred = model.predict(X_test_norm)\n",
    "\n",
    "# Вычисление метрик\n",
    "train_mse = mean_squared_error(y_train, y_train_pred)\n",
    "train_mae = mean_absolute_error(y_train, y_train_pred)\n",
    "train_r2 = r2_score(y_train, y_train_pred)\n",
    "\n",
    "# Вычисление метрик на тестовой выборке\n",
    "test_mse = mean_squared_error(y_test, y_test_pred)\n",
    "test_mae = mean_absolute_error(y_test, y_test_pred)\n",
    "test_r2 = r2_score(y_test, y_test_pred)\n",
    "\n",
    "print(\"Train MSE:\", train_mse)\n",
    "print(\"Train MAE:\", train_mae)\n",
    "print(\"Train R^2:\", train_r2)\n",
    "\n",
    "print(\"Test MSE:\", test_mse)\n",
    "print(\"Test MAE:\", test_mae)\n",
    "print(\"Test R^2:\", test_r2)"
   ]
  },
  {
   "cell_type": "markdown",
   "id": "42db43b0",
   "metadata": {},
   "source": [
    "*после обновления ошибка не исчезла"
   ]
  },
  {
   "cell_type": "markdown",
   "id": "2f900e98",
   "metadata": {},
   "source": [
    "### Модель ElasticNet"
   ]
  },
  {
   "cell_type": "markdown",
   "id": "ebe516c1",
   "metadata": {},
   "source": [
    "GridSearch не удалось подобрать параметры"
   ]
  },
  {
   "cell_type": "code",
   "execution_count": 43,
   "id": "446e8b93",
   "metadata": {},
   "outputs": [
    {
     "name": "stdout",
     "output_type": "stream",
     "text": [
      "Train MSE: 0.32539921164218316\n",
      "Train MAE: 0.4109122851760837\n",
      "Train R^2: 0.40217007715719233\n",
      "Test MSE: 0.30853470624334767\n",
      "Test MAE: 0.3964939527586589\n",
      "Test R^2: 0.41857052582899945\n"
     ]
    }
   ],
   "source": [
    "# Обучение модели ElasticNet регрессии\n",
    "model = ElasticNet()\n",
    "model.fit(X_train, y_train)\n",
    "\n",
    "# Прогнозирование на обучающей выборке\n",
    "y_train_pred = model.predict(X_train)\n",
    "\n",
    "# Прогнозирование на тестовой выборке\n",
    "y_test_pred = model.predict(X_test)\n",
    "\n",
    "train_mse = mean_squared_error(y_train, y_train_pred)\n",
    "train_mae = mean_absolute_error(y_train, y_train_pred)\n",
    "train_r2 = r2_score(y_train, y_train_pred)\n",
    "\n",
    "# Вычисление метрик на тестовой выборке\n",
    "test_mse = mean_squared_error(y_test, y_test_pred)\n",
    "test_mae = mean_absolute_error(y_test, y_test_pred)\n",
    "test_r2 = r2_score(y_test, y_test_pred)\n",
    "\n",
    "print(\"Train MSE:\", train_mse)\n",
    "print(\"Train MAE:\", train_mae)\n",
    "print(\"Train R^2:\", train_r2)\n",
    "\n",
    "print(\"Test MSE:\", test_mse)\n",
    "print(\"Test MAE:\", test_mae)\n",
    "print(\"Test R^2:\", test_r2)"
   ]
  },
  {
   "cell_type": "markdown",
   "id": "778085c6",
   "metadata": {},
   "source": [
    "### Модель Решающее дерево"
   ]
  },
  {
   "cell_type": "markdown",
   "id": "6252466b",
   "metadata": {},
   "source": [
    "GridSearch не удалось подобрать параметры"
   ]
  },
  {
   "cell_type": "code",
   "execution_count": 26,
   "id": "de2cba70",
   "metadata": {},
   "outputs": [
    {
     "name": "stdout",
     "output_type": "stream",
     "text": [
      "Train MSE: 0.0006372311622779122\n",
      "Train MAE: 0.003988614680066186\n",
      "Train R^2: 0.9988292661968814\n",
      "Test MSE: 0.022269820717432894\n",
      "Test MAE: 0.06475533807829184\n",
      "Test R^2: 0.9580328245490579\n"
     ]
    }
   ],
   "source": [
    "# Обучение модели решающего дерева\n",
    "model = DecisionTreeRegressor(criterion='squared_error')\n",
    "model.fit(X_train_norm, y_train)\n",
    "\n",
    "# Прогнозирование на обучающей выборке\n",
    "y_train_pred = model.predict(X_train_norm)\n",
    "\n",
    "# Прогнозирование на тестовой выборке\n",
    "y_test_pred = model.predict(X_test_norm)\n",
    "\n",
    "train_mse = mean_squared_error(y_train, y_train_pred)\n",
    "train_mae = mean_absolute_error(y_train, y_train_pred)\n",
    "train_r2 = r2_score(y_train, y_train_pred)\n",
    "\n",
    "# Вычисление метрик на тестовой выборке\n",
    "test_mse = mean_squared_error(y_test, y_test_pred)\n",
    "test_mae = mean_absolute_error(y_test, y_test_pred)\n",
    "test_r2 = r2_score(y_test, y_test_pred)\n",
    "\n",
    "print(\"Train MSE:\", train_mse)\n",
    "print(\"Train MAE:\", train_mae)\n",
    "print(\"Train R^2:\", train_r2)\n",
    "\n",
    "print(\"Test MSE:\", test_mse)\n",
    "print(\"Test MAE:\", test_mae)\n",
    "print(\"Test R^2:\", test_r2)"
   ]
  },
  {
   "cell_type": "markdown",
   "id": "73949992",
   "metadata": {},
   "source": [
    "### Модель CatBoostRegressor"
   ]
  },
  {
   "cell_type": "code",
   "execution_count": 28,
   "id": "c2dd17a4",
   "metadata": {},
   "outputs": [
    {
     "name": "stdout",
     "output_type": "stream",
     "text": [
      "Train MSE: 0.01537685768021132\n",
      "Train MAE: 0.0772385690250984\n",
      "Train R^2: 0.9717493303252556\n",
      "Test MSE: 0.02532162922114596\n",
      "Test MAE: 0.09244486993921751\n",
      "Test R^2: 0.9522817327669069\n"
     ]
    }
   ],
   "source": [
    "# Обучение модели CatBoostRegressor\n",
    "model = CatBoostRegressor()\n",
    "model.fit(X_train_norm, y_train)\n",
    "       \n",
    "# Прогнозирование на обучающей выборке\n",
    "y_train_pred = model.predict(X_train_norm)\n",
    "\n",
    "# Прогнозирование на тестовой выборке\n",
    "y_test_pred = model.predict(X_test_norm)\n",
    "\n",
    "train_mse = mean_squared_error(y_train, y_train_pred)\n",
    "train_mae = mean_absolute_error(y_train, y_train_pred)\n",
    "train_r2 = r2_score(y_train, y_train_pred)\n",
    "\n",
    "# Вычисление метрик на тестовой выборке\n",
    "test_mse = mean_squared_error(y_test, y_test_pred)\n",
    "test_mae = mean_absolute_error(y_test, y_test_pred)\n",
    "test_r2 = r2_score(y_test, y_test_pred)\n",
    "\n",
    "print(\"Train MSE:\", train_mse)\n",
    "print(\"Train MAE:\", train_mae)\n",
    "print(\"Train R^2:\", train_r2)\n",
    "\n",
    "print(\"Test MSE:\", test_mse)\n",
    "print(\"Test MAE:\", test_mae)\n",
    "print(\"Test R^2:\", test_r2)"
   ]
  },
  {
   "cell_type": "markdown",
   "id": "409d95ca",
   "metadata": {},
   "source": [
    "#### Выводы"
   ]
  },
  {
   "cell_type": "markdown",
   "id": "31abe121",
   "metadata": {},
   "source": [
    "Наиулучшие результаты у моделей: Решающее дерево, случайный лес, KNN и CatBoost.\n",
    "\n",
    "По их качеству лучший - случайный лес: он имеет наименьшие MSE, MAE и наибольший R^2.\n",
    "Однако он занимает очень много времени. Подбор гиперпараметров для случайного леса занял более 15 минут и результат - ошибка.\n",
    "\n",
    "Поэтому лучшие модели для нашей задачи это: Решающее дерево, KNN и CatBoost."
   ]
  },
  {
   "cell_type": "code",
   "execution_count": null,
   "id": "02af8352",
   "metadata": {},
   "outputs": [],
   "source": []
  }
 ],
 "metadata": {
  "kernelspec": {
   "display_name": "Python 3 (ipykernel)",
   "language": "python",
   "name": "python3"
  },
  "language_info": {
   "codemirror_mode": {
    "name": "ipython",
    "version": 3
   },
   "file_extension": ".py",
   "mimetype": "text/x-python",
   "name": "python",
   "nbconvert_exporter": "python",
   "pygments_lexer": "ipython3",
   "version": "3.9.13"
  }
 },
 "nbformat": 4,
 "nbformat_minor": 5
}
